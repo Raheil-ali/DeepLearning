{
 "cells": [
  {
   "cell_type": "markdown",
   "metadata": {},
   "source": [
    "## Projects"
   ]
  },
  {
   "cell_type": "markdown",
   "metadata": {},
   "source": [
    "### P1: Image classification\n",
    "\n",
    "This is a classic deep learning project that is a great way to learn the basics of how to train and evaluate a neural network. You can use a pre-existing dataset like CIFAR-10 or MNIST, or you can collect your own dataset of images. Your goal is to train a model that can correctly classify images into different categories, whether the labels are for animals, vehicles, or handwritten digits.\n",
    "\n",
    "### P2: Object detection\n",
    "\n",
    "This project is a step up from image classification, as it requires your model to be able to localize objects within an image. You can use a pre-existing dataset like COCO or Pascal VOC, or you can collect your own dataset of images with labeled objects. Your goal is to train a model that can detect all of the objects in an image and draw bounding boxes around them.\n",
    "\n",
    "### P3: Semantic segmentation\n",
    "\n",
    "This project is even more challenging than object detection, as it requires your model to be able to segment each object in an image into its individual parts. For example, if an image contains a car, your model would need to be able to segment the car into its body, wheels, windows, and other parts. You can use a pre-existing dataset like Cityscapes or CamVid, or you can collect your own dataset of images with labeled pixels. Your goal is to train a model that can accurately segment all of the objects in an image."
   ]
  },
  {
   "cell_type": "markdown",
   "metadata": {},
   "source": [
    "## Datasets\n",
    "\n",
    "There are many places where you can find open datasets for image classification, object detection, and semantic segmentation. Here are a few suggestions:\n",
    "\n",
    "- **Google AI Datasets**: Google AI maintains a public repository of datasets for a variety of machine learning tasks, including image classification, object detection, and semantic segmentation.\n",
    "- **Kaggle**: Kaggle is a popular platform for data science competitions and collaboration. It also hosts a number of open datasets, including many for image classification, object detection, and semantic segmentation.\n",
    "- **Papers with Code**: Papers with Code is a website that indexes machine learning papers and datasets. You can search for datasets by task, keyword, or paper title."
   ]
  },
  {
   "cell_type": "markdown",
   "metadata": {
    "tags": []
   },
   "source": [
    "## Typical Flow\n",
    "\n",
    "**1. Data preparation**\n",
    "\n",
    "* Load the dataset. You can use Keras' built-in functions to load datasets from CSV files, images, and other sources.\n",
    "* Preprocess the data. This may involve cleaning the data, scaling the features, and converting the data to the appropriate format for your model.\n",
    "\n",
    "**2. Model definition**\n",
    "\n",
    "* Choose a model architecture. Keras provides a variety of pre-built model architectures, such as convolutional neural networks (CNNs), recurrent neural networks (RNNs), and transformers. You can also define your own model architecture using Keras' functional API.\n",
    "\n",
    "**3. Model compilation**\n",
    "\n",
    "* Specify the loss function. This is the function that Keras will use to measure how well your model is performing during training.\n",
    "* Choose an optimizer. This is the algorithm that Keras will use to update the weights of your model during training.\n",
    "* Select metrics to track. These are the metrics that Keras will use to evaluate the performance of your model during training and testing.\n",
    "\n",
    "**4. Model training**\n",
    "\n",
    "* Train the model. You can use Keras' `fit()` function to train your model on the training data.\n",
    "* Monitor the training process. You can use Keras' `Callback` class to monitor the training process and make adjustments as needed.\n",
    "\n",
    "**5. Model evaluation**\n",
    "\n",
    "* Evaluate the model on the test data. You can use Keras' `evaluate()` function to evaluate the performance of your model on the test data.\n",
    "* Make predictions on new data. You can use Keras' `predict()` function to make predictions on new data."
   ]
  },
  {
   "cell_type": "markdown",
   "metadata": {},
   "source": [
    "\n",
    "## Typical Keras functions and modules used at each stage:\n",
    "\n",
    "**Data preparation:**\n",
    "\n",
    "* `tf.keras.utils.load_data()`: Loads a dataset from a CSV file.\n",
    "* `tf.keras.preprocessing.image.ImageDataGenerator`: Preprocesses image data.\n",
    "* `tf.keras.utils.to_categorical()`: Converts labels to categorical format.\n",
    "\n",
    "**Model definition:**\n",
    "\n",
    "* `tf.keras.Sequential()`: Defines a sequential model architecture.\n",
    "* `tf.keras.Model()`: Defines a functional model architecture.\n",
    "* `tf.keras.layers`: Provides a variety of pre-built layers, such as convolutional layers, pooling layers, and fully connected layers.\n",
    "\n",
    "**Model compilation:**\n",
    "\n",
    "* `tf.keras.losses`: Provides a variety of loss functions, such as categorical crossentropy and mean squared error.\n",
    "* `tf.keras.optimizers`: Provides a variety of optimizers, such as stochastic gradient descent (SGD) and Adam.\n",
    "* `tf.keras.metrics`: Provides a variety of metrics, such as accuracy and mean absolute error.\n",
    "\n",
    "**Model training:**\n",
    "\n",
    "* `tf.keras.Model.fit()`: Trains the model on the training data.\n",
    "* `tf.keras.callbacks`: Provides a variety of callbacks, such as `EarlyStopping` and `ModelCheckpoint`.\n",
    "\n",
    "**Model evaluation:**\n",
    "\n",
    "* `tf.keras.Model.evaluate()`: Evaluates the performance of the model on the test data.\n",
    "* `tf.keras.Model.predict()`: Makes predictions on new data."
   ]
  },
  {
   "cell_type": "code",
   "execution_count": 1,
   "metadata": {},
   "outputs": [
    {
     "name": "stderr",
     "output_type": "stream",
     "text": [
      "2023-11-05 01:01:37.900392: I tensorflow/core/platform/cpu_feature_guard.cc:193] This TensorFlow binary is optimized with oneAPI Deep Neural Network Library (oneDNN) to use the following CPU instructions in performance-critical operations:  SSE4.1 SSE4.2 AVX AVX2 FMA\n",
      "To enable them in other operations, rebuild TensorFlow with the appropriate compiler flags.\n"
     ]
    }
   ],
   "source": [
    "import numpy as np \n",
    "import opendatasets as od\n",
    "import pandas\n",
    "from tensorflow.keras.preprocessing import image_dataset_from_directory\n",
    "import matplotlib.pyplot as plt \n",
    "import matplotlib.image as mpimg\n",
    "from PIL import Image\n",
    "import pathlib\n",
    "# library preprocessing data\n",
    "import tensorflow as tf\n",
    "import keras\n",
    "from tensorflow.keras.callbacks import EarlyStopping\n",
    "from tensorflow.keras.preprocessing import image\n",
    "from tensorflow.keras.preprocessing.image import ImageDataGenerator\n",
    "# library model definition and training algoritma\n",
    "from tensorflow.keras.models import Sequential\n",
    "from tensorflow.keras.layers import Conv2D, MaxPool2D, Dense, Dropout, Flatten\n",
    "from tensorflow.keras.layers import Rescaling\n",
    "# library model evaluation\n",
    "from sklearn.metrics import classification_report \n",
    "import warnings\n",
    "warnings.filterwarnings('ignore')"
   ]
  },
  {
   "cell_type": "code",
   "execution_count": 2,
   "metadata": {
    "tags": []
   },
   "outputs": [
    {
     "name": "stdout",
     "output_type": "stream",
     "text": [
      "Skipping, found downloaded files in \"./fruit-recognition\" (use force=True to force download)\n"
     ]
    }
   ],
   "source": [
    "od.download(\"https://www.kaggle.com/datasets/sshikamaru/fruit-recognition\")"
   ]
  },
  {
   "cell_type": "code",
   "execution_count": 6,
   "metadata": {},
   "outputs": [
    {
     "name": "stdout",
     "output_type": "stream",
     "text": [
      "['.DS_Store' 'Apple Braeburn' 'Apple Granny Smith' 'Apricot' 'Avocado'\n",
      " 'Banana' 'Blueberry' 'Cactus fruit' 'Cantaloupe' 'Cherry' 'Clementine'\n",
      " 'Corn' 'Cucumber Ripe' 'Grape Blue' 'Kiwi' 'Lemon' 'Limes' 'Mango'\n",
      " 'Onion White' 'Orange' 'Papaya' 'Passion Fruit' 'Peach' 'Pear'\n",
      " 'Pepper Green' 'Pepper Red' 'Pineapple' 'Plum' 'Pomegranate' 'Potato Red'\n",
      " 'Raspberry' 'Strawberry' 'Tomato' 'Watermelon']\n"
     ]
    }
   ],
   "source": [
    "# see label class on training dataset\n",
    "labels =pathlib.Path.home()/'Desktop/DL_poj/fruit-recognition/train'\n",
    "label_names=np.array(sorted([item.name for item in labels.glob('*')]))\n",
    "print(label_names)"
   ]
  },
  {
   "cell_type": "code",
   "execution_count": 4,
   "metadata": {},
   "outputs": [
    {
     "data": {
      "text/plain": [
       "(PosixPath('/Users/raheil/Desktop/DL_poj/fruit-recognition/test'),)"
      ]
     },
     "execution_count": 4,
     "metadata": {},
     "output_type": "execute_result"
    }
   ],
   "source": [
    "pathlib.Path.home()/'Desktop/DL_poj/fruit-recognition/test',"
   ]
  },
  {
   "cell_type": "code",
   "execution_count": null,
   "metadata": {},
   "outputs": [],
   "source": []
  }
 ],
 "metadata": {
  "kernelspec": {
   "display_name": "Python 3.11.5 ('base')",
   "language": "python",
   "name": "python3"
  },
  "language_info": {
   "codemirror_mode": {
    "name": "ipython",
    "version": 3
   },
   "file_extension": ".py",
   "mimetype": "text/x-python",
   "name": "python",
   "nbconvert_exporter": "python",
   "pygments_lexer": "ipython3",
   "version": "3.9.18"
  },
  "vscode": {
   "interpreter": {
    "hash": "aaa9fecba262e44ecd432e68b23a3aaddfa8ef01aa1ec63fe36bfb59f621e723"
   }
  }
 },
 "nbformat": 4,
 "nbformat_minor": 4
}
